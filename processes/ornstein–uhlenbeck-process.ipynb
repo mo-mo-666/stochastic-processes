{
 "cells": [
  {
   "cell_type": "markdown",
   "metadata": {},
   "source": [
    "# Ornstein–Uhlenbeck processes\n",
    "___\n",
    "\n",
    "An Ornstein–Uhlenbeck process is the solution of the Langevin equation:\n",
    "$$ dX_t \\,=\\, \\alpha dB_t - \\beta X_t dt, \\,\\, X_0 = x_0, $$\n",
    "and the solution is:\n",
    "$$ X_t\\, =\\, x_0 e^{-\\beta t} + \\alpha \\int^t_0 e^ {-\\beta(t-u)} \\, dB_u.$$\n",
    "\n",
    "This process describes the velocity of a massive Brownian particle under the influence of friction."
   ]
  },
  {
   "cell_type": "code",
   "execution_count": null,
   "metadata": {},
   "outputs": [],
   "source": []
  }
 ],
 "metadata": {
  "kernelspec": {
   "display_name": "Python 3",
   "language": "python",
   "name": "python3"
  },
  "language_info": {
   "codemirror_mode": {
    "name": "ipython",
    "version": 3
   },
   "file_extension": ".py",
   "mimetype": "text/x-python",
   "name": "python",
   "nbconvert_exporter": "python",
   "pygments_lexer": "ipython3",
   "version": "3.7.7"
  }
 },
 "nbformat": 4,
 "nbformat_minor": 4
}
