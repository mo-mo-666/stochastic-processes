{
 "cells": [
  {
   "cell_type": "markdown",
   "metadata": {},
   "source": [
    "# Ornstein–Uhlenbeck process\n",
    "___\n",
    "\n",
    "An Ornstein–Uhlenbeck process is the solution of the Langevin equation:\n",
    "$$ dX(t) \\,=\\, \\alpha dB(t) - \\beta X(t) dt, \\,\\, X(0) = x_0, $$\n",
    "and the solution is:\n",
    "$$ X(t)\\, =\\, x_0 e^{-\\beta t} + \\alpha \\int^t_0 e^ {-\\beta(t-u)} \\, dB(u).$$\n",
    "\n",
    "This process describes the velocity of a massive Brownian particle under the influence of friction."
   ]
  },
  {
   "cell_type": "code",
   "execution_count": null,
   "metadata": {},
   "outputs": [],
   "source": []
  }
 ],
 "metadata": {
  "kernelspec": {
   "display_name": "Python 3",
   "language": "python",
   "name": "python3"
  },
  "language_info": {
   "codemirror_mode": {
    "name": "ipython",
    "version": 3
   },
   "file_extension": ".py",
   "mimetype": "text/x-python",
   "name": "python",
   "nbconvert_exporter": "python",
   "pygments_lexer": "ipython3",
   "version": "3.7.2"
  }
 },
 "nbformat": 4,
 "nbformat_minor": 2
}
